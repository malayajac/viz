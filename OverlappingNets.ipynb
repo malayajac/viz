{
 "cells": [
  {
   "cell_type": "code",
   "execution_count": 1,
   "metadata": {},
   "outputs": [],
   "source": [
    "import networkx as nx\n",
    "import matplotlib.pyplot as plt"
   ]
  },
  {
   "cell_type": "code",
   "execution_count": null,
   "metadata": {},
   "outputs": [],
   "source": [
    "MyEdgeList = [(0, 1), (0, 2), (0, 3),\n",
    "              (1, 2), (1, 3),\n",
    "              (2, 3),\n",
    "              (1, 4), (2, 4), (3, 4),\n",
    "              (5, 2), (5, 3), (5, 4), (5, 6),\n",
    "              (6, 2), (6, 3), (6, 4)]\n",
    "\n",
    "G = nx.Graph()\n",
    "G.add_edges_from(MyEdgeList)\n",
    "\n",
    "MyPos = {0: (0, 0),\n",
    "         1: (1, 0),\n",
    "         2: (1.1, 1),\n",
    "         3: (0.1, 1),\n",
    "         4: (2, 0.2),\n",
    "         5: (0.9, 1.4),\n",
    "         6: (1.7, 1.2)}\n",
    "\n",
    "nx.draw_networkx(G, pos=MyPos)\n",
    "nx.draw_networkx_edges(G, pos=MyPos, edgelist=[(1,2), (1, 3), (2, 3)m ],\n",
    "                       width=10, edge_color='green', alpha=0.7)\n",
    "plt.show()"
   ]
  }
 ],
 "metadata": {
  "kernelspec": {
   "display_name": "Python 3",
   "language": "python",
   "name": "python3"
  },
  "language_info": {
   "codemirror_mode": {
    "name": "ipython",
    "version": 3
   },
   "file_extension": ".py",
   "mimetype": "text/x-python",
   "name": "python",
   "nbconvert_exporter": "python",
   "pygments_lexer": "ipython3",
   "version": "3.6.8"
  }
 },
 "nbformat": 4,
 "nbformat_minor": 2
}

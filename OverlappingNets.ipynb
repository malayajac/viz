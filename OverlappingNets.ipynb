{
 "cells": [
  {
   "cell_type": "code",
   "execution_count": 1,
   "metadata": {},
   "outputs": [],
   "source": [
    "import numpy as np\n",
    "import networkx as nx\n",
    "import matplotlib.pyplot as plt\n",
    "from matplotlib.patches import Polygon\n",
    "from matplotlib.collections import PatchCollection"
   ]
  },
  {
   "cell_type": "code",
   "execution_count": 2,
   "metadata": {},
   "outputs": [],
   "source": [
    "MyEdgeList = [(0, 1), (0, 2), (0, 3),\n",
    "              (1, 2), (1, 3), (1, 4),\n",
    "              (2, 3), (2, 4), (2, 5),\n",
    "              (3, 4),\n",
    "              (4, 5), (4, 8),\n",
    "              (6, 2), (6, 4), (6, 5),\n",
    "              (7, 2), (7, 5), (7, 6), (7, 8),\n",
    "              (8, 2), (8, 5), (8, 6),]"
   ]
  },
  {
   "cell_type": "code",
   "execution_count": 3,
   "metadata": {},
   "outputs": [],
   "source": [
    "G = nx.Graph()\n",
    "G.add_edges_from(MyEdgeList)"
   ]
  },
  {
   "cell_type": "code",
   "execution_count": 4,
   "metadata": {},
   "outputs": [
    {
     "name": "stdout",
     "output_type": "stream",
     "text": [
      "List of cliques:\n",
      "[[2, 0, 1, 3], [2, 4, 1, 3], [2, 4, 5, 8, 6], [2, 7, 8, 5, 6]]\n"
     ]
    }
   ],
   "source": [
    "CliqueList = list(nx.find_cliques(G))\n",
    "print(\"List of cliques:\\n{}\".format(CliqueList))"
   ]
  },
  {
   "cell_type": "code",
   "execution_count": 5,
   "metadata": {},
   "outputs": [
    {
     "name": "stdout",
     "output_type": "stream",
     "text": [
      "Overlaps:\n",
      "[2, 0, 1, 3] [2, 4, 1, 3] {1, 2, 3}\n",
      "[2, 0, 1, 3] [2, 4, 5, 8, 6] {2}\n",
      "[2, 0, 1, 3] [2, 7, 8, 5, 6] {2}\n",
      "---\n",
      "[2, 4, 1, 3] [2, 4, 5, 8, 6] {2, 4}\n",
      "[2, 4, 1, 3] [2, 7, 8, 5, 6] {2}\n",
      "---\n",
      "[2, 4, 5, 8, 6] [2, 7, 8, 5, 6] {8, 2, 5, 6}\n",
      "---\n"
     ]
    }
   ],
   "source": [
    "print(\"Overlaps:\")\n",
    "for cc1, clique1 in enumerate(CliqueList[:-1]):\n",
    "    clique1_set = set(clique1)\n",
    "    for cc2, clique2 in enumerate(CliqueList[cc1+1:]):\n",
    "        clique2_set = set(clique2)\n",
    "        print(clique1, clique2, clique1_set.intersection(clique2_set))\n",
    "    print(\"---\")"
   ]
  },
  {
   "cell_type": "code",
   "execution_count": 6,
   "metadata": {},
   "outputs": [],
   "source": [
    "# Position of nodes:\n",
    "MyPos = {0: [0.5, 0.3],\n",
    "         1: [1, 0],\n",
    "         2: [1.8, 1],\n",
    "         3: [1, 1],\n",
    "         4: [1.8, 0],\n",
    "         5: [2.7, 0],\n",
    "         6: [2.6, 1.5],\n",
    "         7: [3.5, 0.2],\n",
    "         8: [3.4, 1.2]}"
   ]
  },
  {
   "cell_type": "code",
   "execution_count": 7,
   "metadata": {},
   "outputs": [],
   "source": [
    "# Overlaps:\n",
    "Overlap1 = np.array([MyPos[1],\n",
    "                     MyPos[2],\n",
    "                     MyPos[3]])\n",
    "\n",
    "\n",
    "# (2, 5, 8, 6)\n",
    "Overlap2 = np.array([MyPos[2],\n",
    "                     MyPos[5],\n",
    "                     MyPos[8],\n",
    "                     MyPos[6]])"
   ]
  },
  {
   "cell_type": "code",
   "execution_count": 8,
   "metadata": {},
   "outputs": [
    {
     "data": {
      "image/png": "[encoded data removed]",
      "text/plain": [
       "<Figure size 432x288 with 1 Axes>"
      ]
     },
     "metadata": {},
     "output_type": "display_data"
    }
   ],
   "source": [
    "fig = plt.figure()\n",
    "ax = fig.add_axes([0, 0, 1, 1])\n",
    "\n",
    "nx.draw_networkx(G, ax=ax, with_labels=True, pos=MyPos)\n",
    "\n",
    "nx.draw_networkx_nodes(G, nodelist=[2], node_color='C1',\n",
    "                       node_size=800, alpha=0.7, pos=MyPos)\n",
    "\n",
    "nx.draw_networkx_edges(G, pos=MyPos, ax=ax,\n",
    "                       edgelist=[(2, 4)],\n",
    "                       width=10, edge_color='C1', alpha=0.7)\n",
    "\n",
    "p1 = Polygon(xy=Overlap1, closed=True, color=\"C1\", alpha=0.7)\n",
    "p2 = Polygon(xy=Overlap2, closed=True, color=\"C1\", alpha=0.7)\n",
    "ax.add_patch(p1)\n",
    "ax.add_patch(p2)\n",
    "\n",
    "ax.set_aspect(\"equal\")\n",
    "ax.axis('off')\n",
    "plt.show()"
   ]
  },
  {
   "cell_type": "code",
   "execution_count": null,
   "metadata": {},
   "outputs": [],
   "source": []
  }
 ],
 "metadata": {
  "kernelspec": {
   "display_name": "Python 3",
   "language": "python",
   "name": "python3"
  },
  "language_info": {
   "codemirror_mode": {
    "name": "ipython",
    "version": 3
   },
   "file_extension": ".py",
   "mimetype": "text/x-python",
   "name": "python",
   "nbconvert_exporter": "python",
   "pygments_lexer": "ipython3",
   "version": "3.6.8"
  }
 },
 "nbformat": 4,
 "nbformat_minor": 2
}
